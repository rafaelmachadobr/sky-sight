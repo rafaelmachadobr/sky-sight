{
 "cells": [
  {
   "cell_type": "code",
   "execution_count": 1,
   "metadata": {
    "id": "HJsq0KpyQ2-S"
   },
   "outputs": [
    {
     "ename": "ModuleNotFoundError",
     "evalue": "No module named 'pandas'",
     "output_type": "error",
     "traceback": [
      "\u001b[0;31m---------------------------------------------------------------------------\u001b[0m",
      "\u001b[0;31mModuleNotFoundError\u001b[0m                       Traceback (most recent call last)",
      "Cell \u001b[0;32mIn[1], line 1\u001b[0m\n\u001b[0;32m----> 1\u001b[0m \u001b[38;5;28;01mimport\u001b[39;00m \u001b[38;5;21;01mpandas\u001b[39;00m \u001b[38;5;28;01mas\u001b[39;00m \u001b[38;5;21;01mpd\u001b[39;00m\n",
      "\u001b[0;31mModuleNotFoundError\u001b[0m: No module named 'pandas'"
     ]
    }
   ],
   "source": [
    "import pandas as pd"
   ]
  },
  {
   "cell_type": "code",
   "execution_count": null,
   "metadata": {
    "colab": {
     "base_uri": "https://localhost:8080/",
     "height": 288
    },
    "id": "t9v0NXIbRku6",
    "outputId": "51ab2537-5606-4452-a639-bf2daa15ca77"
   },
   "outputs": [],
   "source": [
    "df = pd.read_csv(\"dados/VilaMariana03-01-23-06-04-2023.csv\", delimiter=';')\n",
    "\n",
    "df = df.replace(',', '.', regex=True)\n",
    "\n",
    "numeric_columns = ['Temp. Ins. (C)', 'Temp. Max. (C)', 'Temp. Min. (C)',\n",
    "                   'Umi. Ins. (%)', 'Umi. Max. (%)', 'Umi. Min. (%)',\n",
    "                   'Pressao Ins. (hPa)', 'Pressao Max. (hPa)',\n",
    "                   'Pressao Min. (hPa)', 'Vel. Vento (m/s)',\n",
    "                   'Dir. Vento (m/s)', 'Raj. Vento (m/s)', 'Chuva (mm)']\n",
    "\n",
    "df[numeric_columns] = df[numeric_columns].apply(pd.to_numeric, errors='coerce')\n",
    "\n",
    "media_pressao_ins = df['Pressao Ins. (hPa)'].mean()\n",
    "\n",
    "print(\"Média da Pressão Ins.: \", media_pressao_ins)\n",
    "\n",
    "df['Data'] = pd.to_datetime(df['Data'], format='%d/%m/%Y')\n",
    "\n",
    "df['Hora (UTC)'] = pd.to_timedelta(df['Hora (UTC)'], unit='h')\n",
    "\n",
    "df['Data'] = df['Data'] + df['Hora (UTC)']\n",
    "\n",
    "df['Dia'] = df['Data'].dt.day\n",
    "df['Mes'] = df['Data'].dt.month\n",
    "df['Ano'] = df['Data'].dt.year\n",
    "df['Hora'] = df['Data'].dt.hour\n",
    "\n",
    "df = df.drop(columns=['Data', 'Hora (UTC)'])\n",
    "\n",
    "df.head()"
   ]
  },
  {
   "cell_type": "code",
   "execution_count": null,
   "metadata": {
    "colab": {
     "base_uri": "https://localhost:8080/",
     "height": 206
    },
    "id": "dMpwJMFlRmuz",
    "outputId": "f5fc98ce-8c27-43bb-ff27-f9a8c616a513"
   },
   "outputs": [],
   "source": [
    "colunas_descartadas = ['Temp. Max. (C)', 'Temp. Min. (C)', 'Temp. Ins. (C)', 'Umi. Max. (%)', 'Umi. Min. (%)', 'Pto Orvalho Ins. (C)',\n",
    "                      'Pto Orvalho Max. (C)', 'Pto Orvalho Min. (C)',\n",
    "                      'Pressao Max. (hPa)', 'Pressao Min. (hPa)',\n",
    "                      'Raj. Vento (m/s)', 'Radiacao (KJ/m²)', 'Chuva (mm)']\n",
    "\n",
    "X = df.drop(colunas_descartadas, axis=1)\n",
    "\n",
    "X.head()"
   ]
  },
  {
   "cell_type": "code",
   "execution_count": null,
   "metadata": {
    "id": "6MrjvbmRmEAT"
   },
   "outputs": [],
   "source": [
    "# X['Temp. Ins. (C)'] = X['Temp. Ins. (C)'].fillna(X['Temp. Ins. (C)'].median())\n",
    "X['Umi. Ins. (%)'] = X['Umi. Ins. (%)'].fillna(X['Umi. Ins. (%)'].median())\n",
    "X['Pressao Ins. (hPa)'] = X['Pressao Ins. (hPa)'].fillna(X['Pressao Ins. (hPa)'].median())\n",
    "X['Vel. Vento (m/s)'] = X['Vel. Vento (m/s)'].fillna(X['Vel. Vento (m/s)'].median())\n",
    "X['Dir. Vento (m/s)'] = X['Dir. Vento (m/s)'].fillna(X['Dir. Vento (m/s)'].median())"
   ]
  },
  {
   "cell_type": "code",
   "execution_count": null,
   "metadata": {
    "colab": {
     "base_uri": "https://localhost:8080/"
    },
    "id": "nn9W4xNGTP8i",
    "outputId": "5d627c75-8da9-4633-c65e-6115dd86890e"
   },
   "outputs": [],
   "source": [
    "Y = df['Temp. Ins. (C)']\n",
    "\n",
    "Y = Y.fillna(Y.median())\n",
    "\n",
    "Y.head()"
   ]
  },
  {
   "cell_type": "code",
   "execution_count": null,
   "metadata": {
    "id": "tGDdD3XLT2rX"
   },
   "outputs": [],
   "source": [
    "from sklearn.model_selection import train_test_split"
   ]
  },
  {
   "cell_type": "code",
   "execution_count": null,
   "metadata": {
    "id": "c0XTID5kRmZ4"
   },
   "outputs": [],
   "source": [
    "from sklearn.linear_model import LinearRegression"
   ]
  },
  {
   "cell_type": "code",
   "execution_count": null,
   "metadata": {
    "id": "5_LujlmZRWv8"
   },
   "outputs": [],
   "source": [
    "modelo = LinearRegression()"
   ]
  },
  {
   "cell_type": "code",
   "execution_count": null,
   "metadata": {
    "id": "4dPR1F6SVagf"
   },
   "outputs": [],
   "source": [
    "x_treino, x_teste, y_treino, y_teste = train_test_split(X, Y, test_size=0.3)"
   ]
  },
  {
   "cell_type": "code",
   "execution_count": null,
   "metadata": {
    "id": "b8HpigpNid3m"
   },
   "outputs": [],
   "source": [
    "y_treino = y_treino.astype('float64')\n",
    "y_teste = y_teste.astype('float64')"
   ]
  },
  {
   "cell_type": "code",
   "execution_count": null,
   "metadata": {
    "colab": {
     "base_uri": "https://localhost:8080/",
     "height": 75
    },
    "id": "KNGperDERaDH",
    "outputId": "31b94d8d-77f2-4de9-c7bf-06ab91b87bc3"
   },
   "outputs": [],
   "source": [
    "modelo.fit(x_treino, y_treino)"
   ]
  },
  {
   "cell_type": "code",
   "execution_count": null,
   "metadata": {
    "colab": {
     "base_uri": "https://localhost:8080/"
    },
    "id": "WUAfbuFi6j7G",
    "outputId": "72510c02-abb2-46da-dd92-a11602ab48d8"
   },
   "outputs": [],
   "source": [
    "score_percent = modelo.score(x_teste, y_teste) * 100\n",
    "print(f\"A precisão do modelo é de {score_percent:.2f}%\")"
   ]
  },
  {
   "cell_type": "code",
   "execution_count": null,
   "metadata": {
    "id": "HMlo0CQQU9sa"
   },
   "outputs": [],
   "source": [
    "import pickle"
   ]
  },
  {
   "cell_type": "code",
   "execution_count": null,
   "metadata": {
    "id": "yuOtAroFU_jE"
   },
   "outputs": [],
   "source": [
    "pickle.dump(modelo, open('modelo_regressao_linear.sav', 'wb'))"
   ]
  }
 ],
 "metadata": {
  "colab": {
   "provenance": []
  },
  "kernelspec": {
   "display_name": "Python 3 (ipykernel)",
   "language": "python",
   "name": "python3"
  },
  "language_info": {
   "codemirror_mode": {
    "name": "ipython",
    "version": 3
   },
   "file_extension": ".py",
   "mimetype": "text/x-python",
   "name": "python",
   "nbconvert_exporter": "python",
   "pygments_lexer": "ipython3",
   "version": "3.11.6"
  }
 },
 "nbformat": 4,
 "nbformat_minor": 4
}
